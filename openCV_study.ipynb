{
 "cells": [
  {
   "cell_type": "code",
   "execution_count": 3,
   "id": "fb76c65f",
   "metadata": {},
   "outputs": [
    {
     "data": {
      "text/plain": [
       "'4.6.0'"
      ]
     },
     "execution_count": 3,
     "metadata": {},
     "output_type": "execute_result"
    }
   ],
   "source": [
    "import cv2\n",
    "import numpy as np\n",
    "cv2.__version__"
   ]
  },
  {
   "cell_type": "markdown",
   "id": "a307e7d0",
   "metadata": {},
   "source": [
    "# 1.  이미지 출력"
   ]
  },
  {
   "cell_type": "code",
   "execution_count": 5,
   "id": "d5ebd862",
   "metadata": {},
   "outputs": [],
   "source": [
    "img1 = cv2.imread('img_cat.jpg') # 해당 경로의 파일 읽어오기\n",
    "cv2.imshow('img', img1) # img 라는 이름의 창에 img1을 표시\n",
    "cv2.waitKey(0) # 지정된 시간 동안 사용자 키 입력 대기 (0은 무한)\n",
    "cv2.destroyAllWindows() # 모든 창 닫기"
   ]
  },
  {
   "cell_type": "markdown",
   "id": "761a3c4a",
   "metadata": {},
   "source": [
    "#### CV2.IMREAD_COLOR : 컬러 이미지, 투명 영역은 무시\n",
    "#### CV2.IMREAD_GRAYSCALE : 흑백 이미지\n",
    "#### CV2.IMREAD_UNCHANGED : 투명 영역까지 포함"
   ]
  },
  {
   "cell_type": "code",
   "execution_count": 14,
   "id": "9c2056f7",
   "metadata": {},
   "outputs": [],
   "source": [
    "img2 = cv2.imread('img_cat.jpg', cv2.IMREAD_COLOR)\n",
    "img3 = cv2.imread('img_cat.jpg', cv2.IMREAD_GRAYSCALE)\n",
    "img4 = cv2.imread('img_cat.jpg', cv2.IMREAD_UNCHANGED)\n",
    "\n",
    "cv2.imshow('img_color', img2)\n",
    "cv2.imshow('img_grayscale', img3)\n",
    "cv2.imshow('img_unchanged', img4)\n",
    "\n",
    "cv2.waitKey(0)\n",
    "cv2.destroyAllWindows()"
   ]
  },
  {
   "cell_type": "markdown",
   "id": "13da0096",
   "metadata": {},
   "source": [
    "#### shape (height, width, channel 정보)"
   ]
  },
  {
   "cell_type": "code",
   "execution_count": 17,
   "id": "a2f20759",
   "metadata": {},
   "outputs": [
    {
     "data": {
      "text/plain": [
       "(390, 640, 3)"
      ]
     },
     "execution_count": 17,
     "metadata": {},
     "output_type": "execute_result"
    }
   ],
   "source": [
    "img1.shape"
   ]
  },
  {
   "cell_type": "markdown",
   "id": "ee0750e3",
   "metadata": {},
   "source": [
    "# 2. 동영상 출력"
   ]
  },
  {
   "cell_type": "code",
   "execution_count": 26,
   "id": "9d490cd9",
   "metadata": {},
   "outputs": [
    {
     "name": "stdout",
     "output_type": "stream",
     "text": [
      "더 이상 가져올 프레임이 없음\n"
     ]
    }
   ],
   "source": [
    "cap = cv2.VideoCapture('movie_cat.mp4')\n",
    "\n",
    "while cap.isOpened() : # 동영상 파일이 올바로 열렸는지?\n",
    "    ret, frame = cap.read() # ret : 성공여부, frame : 받아온 이미지(프레임)\n",
    "    if not ret : \n",
    "        print(\"더 이상 가져올 프레임이 없음\")\n",
    "        break\n",
    "    \n",
    "    cv2.imshow(\"video\", frame)\n",
    "    \n",
    "    if cv2.waitKey(20) == ord(\"q\") : # waitKey 인자로 속도 제어 가능\n",
    "        print(\"사용자 입력에 의해 종료합니다.\")\n",
    "        break\n",
    "        \n",
    "cap.release() # 자원 해제\n",
    "cv2.destroyAllWindows()"
   ]
  },
  {
   "cell_type": "markdown",
   "id": "2b2782ce",
   "metadata": {},
   "source": [
    "#### 카메라 출력"
   ]
  },
  {
   "cell_type": "code",
   "execution_count": 11,
   "id": "4e4cc7e3",
   "metadata": {},
   "outputs": [],
   "source": [
    "cap_camera = cv2.VideoCapture(0) # 0번째 카메라 장치 Device ID\n",
    "\n",
    "if not cap_camera.isOpened() : # 카메라가 잘 열리지 않은 경우\n",
    "    exit() # 프로그램 종료\n",
    "    \n",
    "while True :\n",
    "    ret, frame = cap_camera.read()\n",
    "    if not ret :\n",
    "        break\n",
    "    \n",
    "    cv2.imshow('CAMERA', frame)\n",
    "    if cv2.waitKey(1) == ord(\"q\") :\n",
    "        break\n",
    "\n",
    "cap_camera.release()\n",
    "cv2.destroyAllWindows()"
   ]
  },
  {
   "cell_type": "markdown",
   "id": "8149c7b2",
   "metadata": {},
   "source": [
    "# 3. 도형 그리기"
   ]
  },
  {
   "cell_type": "code",
   "execution_count": 6,
   "id": "61a0c878",
   "metadata": {},
   "outputs": [],
   "source": [
    "# 빈 스케치북 만들기"
   ]
  },
  {
   "cell_type": "code",
   "execution_count": 17,
   "id": "c37b4c13",
   "metadata": {},
   "outputs": [],
   "source": [
    "# 세로 480 x 가로 640, 3 채널(RGB)에 해당하는 스케치북 만들기\n",
    "\n",
    "img_sb1 = np.zeros((480, 640, 3), dtype = np.uint8)\n",
    "img_sb1[:] = (255, 255, 255) # 전체 공간을 흰색으로 채우기\n",
    "# print(img_sb)\n",
    "\n",
    "cv2.imshow('Sketch_Book', img_sb1)\n",
    "cv2.waitKey(0)\n",
    "cv2.destroyAllWindows()"
   ]
  },
  {
   "cell_type": "code",
   "execution_count": 11,
   "id": "f0b101a5",
   "metadata": {},
   "outputs": [],
   "source": [
    "# 일부 영역 색칠\n",
    "\n",
    "# 세로 480 x 가로 640, 3 채널(RGB)에 해당하는 스케치북 만들기\n",
    "\n",
    "img_sb2 = np.zeros((480, 640, 3), dtype = np.uint8)\n",
    "img_sb2[100 : 200, 200 : 300] = (87, 208, 45)\n",
    "# [세로영역, 가로영역] = (B, G, R)\n",
    "\n",
    "cv2.imshow('Sketch_Book', img_sb2)\n",
    "cv2.waitKey(0)\n",
    "cv2.destroyAllWindows()"
   ]
  },
  {
   "cell_type": "code",
   "execution_count": 28,
   "id": "881247fd",
   "metadata": {},
   "outputs": [],
   "source": [
    "# 직선\n",
    "\n",
    "# cv2.LINE_4 : 상하좌우 4방향으로 연결된 선\n",
    "# cv2.LINE_8 : 대각선을 포함한 8방향으로 연결된 선 (기본값)\n",
    "# cv2.LINE_AA : 부드러운 선 (anti-aliasing)"
   ]
  },
  {
   "cell_type": "code",
   "execution_count": 13,
   "id": "69d16f90",
   "metadata": {},
   "outputs": [],
   "source": [
    "img_sb  = np.zeros((480, 640, 3), dtype = np.uint8)\n",
    "\n",
    "COLOR = (0, 255, 255)\n",
    "THICKNESS = 3\n",
    "\n",
    "cv2.line(img_sb, (50, 100), (400, 50), COLOR, THICKNESS, cv2.LINE_8)\n",
    "# 그릴 위치, 시작점, 끝점, 색, 두께, 선 종류\n",
    "cv2.line(img_sb, (50, 200), (400, 150), COLOR, THICKNESS, cv2.LINE_4)\n",
    "cv2.line(img_sb, (50, 300), (400, 250), COLOR, THICKNESS, cv2.LINE_AA)\n",
    "\n",
    "cv2.imshow(\"LINE\", img_sb)\n",
    "cv2.waitKey(0)\n",
    "cv2.destroyAllWindows()"
   ]
  },
  {
   "cell_type": "code",
   "execution_count": 14,
   "id": "232e6b2f",
   "metadata": {},
   "outputs": [],
   "source": [
    "# 원\n",
    "\n",
    "img_sb = np.zeros((480, 640, 3), dtype = np.uint8)\n",
    "\n",
    "COLOR = (255, 255, 0)\n",
    "RADIUS = 50 # 반지름\n",
    "THICKNESS = 10\n",
    "\n",
    "cv2.circle(img_sb, (200, 100), RADIUS, COLOR, THICKNESS, cv2.LINE_AA)\n",
    "# 그릴 위치, 원의 중심점, 반지름, 색, 두께, 선 종류\n",
    "cv2.circle(img_sb, (400, 100), RADIUS, COLOR, cv2.FILLED, cv2.LINE_AA) # 속 찬 원\n",
    "\n",
    "cv2.imshow(\"CIRCLE\", img_sb)\n",
    "cv2.waitKey(0)\n",
    "cv2.destroyAllWindows()"
   ]
  },
  {
   "cell_type": "code",
   "execution_count": 15,
   "id": "09e84a93",
   "metadata": {},
   "outputs": [],
   "source": [
    "# 사각형\n",
    "\n",
    "img_sb = np.zeros((480, 640, 3), dtype = np.uint8)\n",
    "\n",
    "COLOR = (0, 255, 0)\n",
    "THICKNESS = 3\n",
    "\n",
    "cv2.rectangle(img_sb, (100, 100), (200, 200), COLOR, THICKNESS)\n",
    "# 속이 빈 사각형// 그릴 위치, 왼쪽 위 좌표, 오른쪽 아래 좌표, 색깔, 두께\n",
    "cv2.rectangle(img_sb, (300, 100), (400, 300), COLOR, cv2.FILLED)\n",
    "# 꽉 찬 사각형// 그릴 위치, 왼쪽 위 좌표, 오른쪽 아래 좌표, 색깔, 꽉채움\n",
    "\n",
    "cv2.imshow(\"SQUARE\", img_sb)\n",
    "cv2.waitKey(0)\n",
    "cv2.destroyAllWindows()"
   ]
  },
  {
   "cell_type": "code",
   "execution_count": 27,
   "id": "4bf92ea2",
   "metadata": {},
   "outputs": [],
   "source": [
    "# 다각형\n",
    "\n",
    "img_sb = np.zeros((480, 640, 3), dtype = np.uint8)\n",
    "\n",
    "COLOR = (0, 0, 255)\n",
    "THICKNESS = 3\n",
    "\n",
    "pts1 = np.array([[100, 100], [200, 100], [100, 200]]) # 다각형 꼭짓점 좌표 표현\n",
    "pts2 = np.array([[200, 100], [300, 100], [300, 200]])\n",
    "\n",
    "#cv2.polylines(img_sb, [pts1], True, COLOR, THICKNESS, cv2.LINE_AA)\n",
    "#cv2.polylines(img_sb, [pts2], True, COLOR, THICKNESS, cv2.LINE_AA)\n",
    "\n",
    "cv2.polylines(img_sb, [pts1, pts2], True, COLOR, THICKNESS, cv2.LINE_AA) # 속이 빈 다각형\n",
    "# 그릴 위치, 꼭짓점 좌표, 여닫힘(True, False), 색깔, 두께, 선 종류\n",
    "\n",
    "pts3 = np.array([[[100, 300], [200, 300], [100, 400]], [[200, 300], [300, 300], [300, 400]]])\n",
    "cv2.fillPoly(img_sb, pts3, COLOR, cv2.LINE_AA) # 속이 찬 다각형\n",
    "# 그릴 위치, 꼭짓점 좌표, 색깔, 선 종류\n",
    "\n",
    "cv2.imshow(\"poly\", img_sb)\n",
    "cv2.waitKey(0)\n",
    "cv2.destroyAllWindows()"
   ]
  },
  {
   "cell_type": "markdown",
   "id": "84e0e062",
   "metadata": {},
   "source": [
    "# 4. 텍스트"
   ]
  },
  {
   "cell_type": "markdown",
   "id": "fb07c791",
   "metadata": {},
   "source": [
    "## OpenCV에서 사용하는 글꼴 종류\n",
    "    cv2.FONT_HERSHEY_SIMPLEX\n",
    "    cv2.FONT_HERSHEY_PLAIN\n",
    "    cv2.FONT_HERSHEY_SCRIPT_SIMPLEX\n",
    "    cv2.FONT_HERSHEY_TRIPLEX\n",
    "    \n",
    "    cv2.FONT_ITALIC"
   ]
  },
  {
   "cell_type": "code",
   "execution_count": 41,
   "id": "fa42b1b5",
   "metadata": {},
   "outputs": [],
   "source": [
    "img_sb = np.zeros((480, 640, 3), dtype = np.uint8)\n",
    "\n",
    "SCALE = 1.5\n",
    "COLOR = (255, 255, 255)\n",
    "THICKNESS = 1\n",
    "\n",
    "cv2.putText(img_sb, \"OpenCV Study~\", (20, 50), cv2.FONT_HERSHEY_SIMPLEX, SCALE, COLOR, THICKNESS)\n",
    "# 그릴 위치, 텍스트 내용, 시작 위치, 폰트 종류, 크기, 색깔, 두께\n",
    "cv2.putText(img_sb, \"OpenCV Study~\", (20, 150), cv2.FONT_HERSHEY_PLAIN, SCALE, COLOR, THICKNESS)\n",
    "cv2.putText(img_sb, \"OpenCV Study~\", (20, 250), cv2.FONT_HERSHEY_SCRIPT_SIMPLEX, SCALE, COLOR, THICKNESS)\n",
    "cv2.putText(img_sb, \"OpenCV Study~\", (20, 350), cv2.FONT_HERSHEY_TRIPLEX, SCALE, COLOR, THICKNESS)\n",
    "cv2.putText(img_sb, \"OpenCV Study~\", (20, 450), cv2.FONT_HERSHEY_TRIPLEX | cv2.FONT_ITALIC, SCALE, COLOR, THICKNESS)\n",
    "\n",
    "cv2.imshow(\"Text\", img_sb)\n",
    "cv2.waitKey(0)\n",
    "cv2.destroyAllWindows()"
   ]
  },
  {
   "cell_type": "code",
   "execution_count": 6,
   "id": "b0c8d0bf",
   "metadata": {},
   "outputs": [],
   "source": [
    "# 한글 입력하기\n",
    "\n",
    "from PIL import ImageFont, ImageDraw, Image\n",
    "\n",
    "def myPutText (src, text, pos, font_size, font_color) :\n",
    "    img_pil = Image.fromarray(src)\n",
    "    draw = ImageDraw.Draw(img_pil)\n",
    "    font = ImageFont.truetype('font/gulim.ttc', font_size)\n",
    "    draw.text(pos, text, font = font, fill = font_color)\n",
    "    \n",
    "    return np.array(img_pil)\n",
    "\n",
    "img_sb = np.zeros((480, 640, 3), dtype = np.uint8)\n",
    "\n",
    "FONT_SIZE = 30\n",
    "COLOR = (255, 255, 255)\n",
    "\n",
    "\n",
    "#cv2.putText(img_sb, \"OpenCV Study~\", (20, 50), cv2.FONT_HERSHEY_SIMPLEX, SCALE, COLOR, THICKNESS)\n",
    "# 그릴 위치, 텍스트 내용, 시작 위치, 폰트 종류, 크기, 색깔, 두께\n",
    "\n",
    "text = myPutText(img_sb, \"OpenCV 공부 중입니다\", (20, 50), FONT_SIZE, COLOR)\n",
    "\n",
    "cv2.imshow(\"Text\", text)\n",
    "cv2.waitKey(0)\n",
    "cv2.destroyAllWindows()"
   ]
  },
  {
   "cell_type": "markdown",
   "id": "2c0794cd",
   "metadata": {},
   "source": [
    "# 5. 파일 저장"
   ]
  },
  {
   "cell_type": "code",
   "execution_count": 10,
   "id": "5f02869c",
   "metadata": {},
   "outputs": [
    {
     "name": "stdout",
     "output_type": "stream",
     "text": [
      "True\n"
     ]
    }
   ],
   "source": [
    "# 이미지 저장\n",
    "\n",
    "img = cv2.imread(\"img_cat.jpg\", cv2.IMREAD_GRAYSCALE) #\n",
    "\n",
    "cv2.imshow(\"IMAGE\", img)\n",
    "cv2.waitKey(0)\n",
    "cv2.destroyAllWindows()\n",
    " \n",
    "result = cv2.imwrite(\"SAVE_grayCat.jpg\", img) #\n",
    "print(result)"
   ]
  },
  {
   "cell_type": "code",
   "execution_count": 11,
   "id": "43f30857",
   "metadata": {},
   "outputs": [
    {
     "name": "stdout",
     "output_type": "stream",
     "text": [
      "True\n"
     ]
    }
   ],
   "source": [
    "img = cv2.imread(\"img_cat.jpg\", cv2.IMREAD_GRAYSCALE) #\n",
    "\n",
    "cv2.imshow(\"IMAGE\", img)\n",
    "cv2.waitKey(0)\n",
    "cv2.destroyAllWindows()\n",
    "\n",
    "result = cv2.imwrite(\"SAVE_grayCat.png\", img) #\n",
    "print(result)"
   ]
  },
  {
   "cell_type": "code",
   "execution_count": 18,
   "id": "02687cfc",
   "metadata": {},
   "outputs": [],
   "source": [
    "# 동영상 저장\n",
    "\n",
    "cap = cv2.VideoCapture(\"movie_cat.mp4\")\n",
    "\n",
    "# 코덱 정의\n",
    "four_cc = cv2.VideoWriter_fourcc(*'DIVX')\n",
    "\n",
    "width = round(cap.get(cv2.CAP_PROP_FRAME_WIDTH))\n",
    "height = round(cap.get(cv2.CAP_PROP_FRAME_HEIGHT))\n",
    "fps = cap.get(cv2.CAP_PROP_FPS)\n",
    "\n",
    "out = cv2.VideoWriter(\"output.avi\", four_cc, fps, (width, height))\n",
    "# 저장 파일명, 코덱, FPS, 크기\n",
    "\n",
    "while cap.isOpened() :\n",
    "    ret,frame = cap.read()\n",
    "        \n",
    "    if not ret :\n",
    "        break\n",
    "    \n",
    "    out.write(frame) # 영상 데이터만 저장 (소리 X)\n",
    "    cv2.imshow(\"video\", frame)\n",
    "    if cv2.waitKey(1) == ord('q') :\n",
    "        break\n",
    "\n",
    "out.release()\n",
    "cap.release()\n",
    "cv2.destroyAllWindows()"
   ]
  },
  {
   "cell_type": "markdown",
   "id": "d405aea6",
   "metadata": {},
   "source": [
    "# 6. 크기 조정"
   ]
  },
  {
   "cell_type": "code",
   "execution_count": 20,
   "id": "9b53d356",
   "metadata": {},
   "outputs": [],
   "source": [
    "# 이미지 크기 조정\n",
    "    # 고정 크기로 설정\n",
    "    # 비율로 설정"
   ]
  },
  {
   "cell_type": "code",
   "execution_count": 26,
   "id": "b34b3f4f",
   "metadata": {},
   "outputs": [],
   "source": [
    "# 고정 크기로 설정\n",
    "img = cv2.imread(\"img_cat.jpg\")\n",
    "dst = cv2.resize(img, (200, 200))\n",
    "\n",
    "cv2.imshow('img', img)\n",
    "cv2.imshow('resize_img', dst)\n",
    "cv2.waitKey(0)\n",
    "cv2.destroyAllWindows()"
   ]
  },
  {
   "cell_type": "code",
   "execution_count": 28,
   "id": "51059f5b",
   "metadata": {},
   "outputs": [],
   "source": [
    "# 비율로 설정\n",
    "img = cv2.imread(\"img_cat.jpg\")\n",
    "dst = cv2.resize(img, None, fx = 0.5, fy = 0.5)\n",
    "\n",
    "cv2.imshow('img', img)\n",
    "cv2.imshow('resize_img', dst)\n",
    "cv2.waitKey(0)\n",
    "cv2.destroyAllWindows()"
   ]
  },
  {
   "cell_type": "markdown",
   "id": "ba36f975",
   "metadata": {},
   "source": [
    "### 보간법\n",
    "    1. cv2.INTER_AREA : 크기 줄일 때 사용\n",
    "    2. cv2.INTER_CUBIC : 크기 늘릴 때 사용 (속도 느림, 퀄리티 좋음)\n",
    "    3. cv2.INTER_LINEAR : 크기 늘릴 때 사용 (기본값)"
   ]
  },
  {
   "cell_type": "code",
   "execution_count": 29,
   "id": "f0dbf6a1",
   "metadata": {},
   "outputs": [],
   "source": [
    "img = cv2.imread(\"img_cat.jpg\")\n",
    "dst = cv2.resize(img, None, fx = 0.5, fy = 0.5, interpolation = cv2.INTER_AREA)\n",
    "\n",
    "cv2.imshow('img', img)\n",
    "cv2.imshow('resize_img', dst)\n",
    "cv2.waitKey(0)\n",
    "cv2.destroyAllWindows()"
   ]
  },
  {
   "cell_type": "code",
   "execution_count": 32,
   "id": "062934ca",
   "metadata": {},
   "outputs": [],
   "source": [
    "img = cv2.imread(\"img_cat.jpg\")\n",
    "dst = cv2.resize(img, None, fx = 2, fy = 2, interpolation = cv2.INTER_CUBIC)\n",
    "\n",
    "\n",
    "cv2.imshow('img', img)\n",
    "cv2.imshow('resize_img', dst)\n",
    "\n",
    "cv2.waitKey(0)\n",
    "cv2.destroyAllWindows()"
   ]
  },
  {
   "cell_type": "code",
   "execution_count": null,
   "id": "e66cb007",
   "metadata": {},
   "outputs": [],
   "source": []
  },
  {
   "cell_type": "code",
   "execution_count": null,
   "id": "7282fa0b",
   "metadata": {},
   "outputs": [],
   "source": []
  }
 ],
 "metadata": {
  "kernelspec": {
   "display_name": "Python 3 (ipykernel)",
   "language": "python",
   "name": "python3"
  },
  "language_info": {
   "codemirror_mode": {
    "name": "ipython",
    "version": 3
   },
   "file_extension": ".py",
   "mimetype": "text/x-python",
   "name": "python",
   "nbconvert_exporter": "python",
   "pygments_lexer": "ipython3",
   "version": "3.10.2"
  }
 },
 "nbformat": 4,
 "nbformat_minor": 5
}
